{
 "cells": [
  {
   "cell_type": "markdown",
   "id": "015ea305",
   "metadata": {},
   "source": [
    "# Lab | Object Oriented Programming"
   ]
  },
  {
   "cell_type": "raw",
   "id": "63f87106",
   "metadata": {},
   "source": [
    "Crete a Python Tv class with a constructor and the following attributes:\n",
    "\n",
    ".on (Boolean)\n",
    ".volume (float in [0,100])\n",
    ".active_channel (int in [1,10])\n",
    ".input (str in [\"Anthena\", \"HDMI1\", \"HDMI2\", \"HDMI3\"])\n",
    ".size (float in [42, 50, 55, 65, 75])"
   ]
  },
  {
   "cell_type": "raw",
   "id": "f0a6a6a2",
   "metadata": {},
   "source": [
    "Methods\n",
    ".switch_on()\n",
    ".switch_off()\n",
    ".set_volume(volume: int)\n",
    ".change_channel(channel: int)\n",
    ".set_input(value: str)"
   ]
  },
  {
   "cell_type": "code",
   "execution_count": 1,
   "id": "ec3c4c74",
   "metadata": {},
   "outputs": [],
   "source": [
    "class Tv():\n",
    "    # Constructor method of the class. This class \"needs\" as arguments: \"on\", \"volume\", \"active channel\" , \"input\" and \"size\"\n",
    "    def __init__(self,on,volume,active_channel,input,size):\n",
    "        # on -> boolean\n",
    "        # volume -> float [0,100]\n",
    "        #active_channel -> int [1,10]\n",
    "        #input -> str [\"Anthena\", \"HDMI1\", \"HDMI2\", \"HDMI3\"]\n",
    "        # size -> float [42, 50, 55, 65, 75]\n",
    "        self.on = on\n",
    "        self.volume = volume\n",
    "        self.active_channel = active_channel\n",
    "        self.input = input\n",
    "        self.size = size\n",
    "    \n",
    "    def switch_on(self):\n",
    "        self.on = True\n",
    "        print('Switch On')\n",
    "    \n",
    "    def switch_off(self):\n",
    "        self.on = False\n",
    "        print('Switch Off')\n",
    "    \n",
    "    def set_volume(self,volume: int):\n",
    "        print(\"Current Volume of tv =\" , self.volume)\n",
    "        if volume in range(0,101):\n",
    "            self.volume = volume\n",
    "            print(\"New Volume of tv =\" , self.volume)\n",
    "        else:\n",
    "            print (\"Enter a valid value between 0 to 100\")\n",
    "    \n",
    "    def change_channel(self,channel: int):\n",
    "        print(\"Current channel of tv =\" , self.active_channel)\n",
    "        if channel in range(1,11):\n",
    "            self.active_channel = channel\n",
    "            print(\"New channel of tv =\" , self.active_channel)\n",
    "        else:\n",
    "            print ('Enter a valid value between 1 to 10')\n",
    "            \n",
    "    def set_input(self,value : str):\n",
    "        print(\"Current input of tv =\" , self.input)\n",
    "        if value in [\"Anthena\", \"HDMI1\", \"HDMI2\", \"HDMI3\"]:\n",
    "            self.value = value\n",
    "            print(\"New input of tv =\" , self.value)\n",
    "        else:\n",
    "            print ('Enter a valid value between Anthena, HDMI1, HDMI2, HDMI3')"
   ]
  },
  {
   "cell_type": "code",
   "execution_count": 2,
   "id": "e0df97cc",
   "metadata": {},
   "outputs": [],
   "source": [
    "tv1 = Tv(True, 11, 1,\"HDMI1\",42)"
   ]
  },
  {
   "cell_type": "code",
   "execution_count": 3,
   "id": "25cbb004",
   "metadata": {},
   "outputs": [
    {
     "name": "stdout",
     "output_type": "stream",
     "text": [
      "Switch On\n"
     ]
    }
   ],
   "source": [
    "tv1.switch_on()"
   ]
  },
  {
   "cell_type": "code",
   "execution_count": 4,
   "id": "e38235b3",
   "metadata": {},
   "outputs": [
    {
     "name": "stdout",
     "output_type": "stream",
     "text": [
      "Switch Off\n"
     ]
    }
   ],
   "source": [
    "tv1.switch_off()"
   ]
  },
  {
   "cell_type": "code",
   "execution_count": 5,
   "id": "b8da32c9",
   "metadata": {},
   "outputs": [
    {
     "name": "stdout",
     "output_type": "stream",
     "text": [
      "Current Volume of tv = 11\n",
      "New Volume of tv = 5\n"
     ]
    }
   ],
   "source": [
    "tv1.set_volume(5)"
   ]
  },
  {
   "cell_type": "code",
   "execution_count": 6,
   "id": "66bdda2c",
   "metadata": {},
   "outputs": [
    {
     "name": "stdout",
     "output_type": "stream",
     "text": [
      "Current channel of tv = 1\n",
      "New channel of tv = 6\n"
     ]
    }
   ],
   "source": [
    "tv1.change_channel(6)"
   ]
  },
  {
   "cell_type": "code",
   "execution_count": 7,
   "id": "dbd246da",
   "metadata": {},
   "outputs": [
    {
     "name": "stdout",
     "output_type": "stream",
     "text": [
      "Current input of tv = HDMI1\n",
      "New input of tv = Anthena\n"
     ]
    }
   ],
   "source": [
    "tv1.set_input('Anthena')"
   ]
  },
  {
   "cell_type": "code",
   "execution_count": null,
   "id": "aa2acc6b",
   "metadata": {},
   "outputs": [],
   "source": []
  }
 ],
 "metadata": {
  "kernelspec": {
   "display_name": "Python 3 (ipykernel)",
   "language": "python",
   "name": "python3"
  },
  "language_info": {
   "codemirror_mode": {
    "name": "ipython",
    "version": 3
   },
   "file_extension": ".py",
   "mimetype": "text/x-python",
   "name": "python",
   "nbconvert_exporter": "python",
   "pygments_lexer": "ipython3",
   "version": "3.10.9"
  }
 },
 "nbformat": 4,
 "nbformat_minor": 5
}
